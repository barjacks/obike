{
 "cells": [
  {
   "cell_type": "code",
   "execution_count": null,
   "metadata": {
    "collapsed": true
   },
   "outputs": [],
   "source": [
    "import pandas as pd\n",
    "import glob\n",
    "from geopandas import GeoDataFrame\n",
    "import geopandas as gpd\n",
    "from math import sin, cos, sqrt, atan2, radians\n",
    "import numpy as np\n",
    "import matplotlib.pyplot as plt\n",
    "import dateutil \n",
    "import datetime as dt\n",
    "from datetime import datetime, timedelta\n",
    "%matplotlib inline\n",
    "plt.style.use('ggplot')\n",
    "\n",
    "# approximate radius of earth in km\n",
    "R = 6373.0"
   ]
  },
  {
   "cell_type": "markdown",
   "metadata": {},
   "source": [
    "# Creating first df"
   ]
  },
  {
   "cell_type": "code",
   "execution_count": null,
   "metadata": {
    "collapsed": true
   },
   "outputs": [],
   "source": [
    "df = pd.read_csv('serverdata/2017-09-07 23:00:022000obikesZH.csv')"
   ]
  },
  {
   "cell_type": "code",
   "execution_count": null,
   "metadata": {
    "collapsed": true
   },
   "outputs": [],
   "source": [
    "del df['Unnamed: 0']\n",
    "del df['index']\n",
    "del df['countyId']\n",
    "del df['helmet']\n",
    "del df['imei']"
   ]
  },
  {
   "cell_type": "code",
   "execution_count": null,
   "metadata": {
    "collapsed": true
   },
   "outputs": [],
   "source": [
    "def split1(elem):\n",
    "    elem = elem.replace('POINT (', '')\n",
    "    elem = elem.replace(')', '')\n",
    "    return elem.split(' ')[0]"
   ]
  },
  {
   "cell_type": "code",
   "execution_count": null,
   "metadata": {
    "collapsed": true
   },
   "outputs": [],
   "source": [
    "def split2(elem):\n",
    "    elem = elem.replace('POINT (', '')\n",
    "    elem = elem.replace(')', '')\n",
    "    return elem.split(' ')[1]"
   ]
  },
  {
   "cell_type": "code",
   "execution_count": null,
   "metadata": {
    "collapsed": true
   },
   "outputs": [],
   "source": [
    "df['Long'] = df['2017-09-07 23:00:02'].apply(split1)\n",
    "df['Lat'] = df['2017-09-07 23:00:02'].apply(split2)\n",
    "df['Timestamp'] = '2017-09-07 23:00:02'\n",
    "del df['2017-09-07 23:00:02']"
   ]
  },
  {
   "cell_type": "code",
   "execution_count": null,
   "metadata": {},
   "outputs": [],
   "source": [
    "df.head(3)"
   ]
  },
  {
   "cell_type": "markdown",
   "metadata": {},
   "source": [
    "# Creating list of names in file"
   ]
  },
  {
   "cell_type": "code",
   "execution_count": null,
   "metadata": {
    "collapsed": true
   },
   "outputs": [],
   "source": [
    "file_names = []\n",
    "for name in glob.glob('serverdata/*'):\n",
    "    name = name.split('/')[-1]\n",
    "    file_names.append(name)"
   ]
  },
  {
   "cell_type": "markdown",
   "metadata": {},
   "source": [
    "# Iterating through contents of all the server files"
   ]
  },
  {
   "cell_type": "code",
   "execution_count": null,
   "metadata": {
    "collapsed": true
   },
   "outputs": [],
   "source": [
    "for file in file_names[0:]:\n",
    "    df_new = pd.read_csv('serverdata/'+ file)\n",
    "    \n",
    "    del df_new['Unnamed: 0']\n",
    "    del df_new['index']\n",
    "    del df_new['countyId']\n",
    "    del df_new['helmet']\n",
    "    del df_new['imei']\n",
    "    \n",
    "    df_new['Long'] = df_new[file[:19]].apply(split1)\n",
    "    df_new['Lat'] = df_new[file[:19]].apply(split2)\n",
    "    df_new['Timestamp'] = file[:19]\n",
    "    del df_new[file[:19]]\n",
    "    #print(file[:19])\n",
    "    frames = [df, df_new]\n",
    "\n",
    "    df = pd.concat(frames)"
   ]
  },
  {
   "cell_type": "code",
   "execution_count": null,
   "metadata": {},
   "outputs": [],
   "source": [
    "df.info()"
   ]
  },
  {
   "cell_type": "code",
   "execution_count": null,
   "metadata": {
    "collapsed": true
   },
   "outputs": [],
   "source": [
    "df = df.drop_duplicates()"
   ]
  },
  {
   "cell_type": "code",
   "execution_count": null,
   "metadata": {},
   "outputs": [],
   "source": [
    "df.info()"
   ]
  },
  {
   "cell_type": "code",
   "execution_count": null,
   "metadata": {
    "collapsed": true
   },
   "outputs": [],
   "source": [
    "df.to_csv('timestamps.csv')"
   ]
  },
  {
   "cell_type": "markdown",
   "metadata": {},
   "source": [
    "# Die beliebtesten Standorte"
   ]
  },
  {
   "cell_type": "code",
   "execution_count": null,
   "metadata": {},
   "outputs": [],
   "source": [
    "df['Long'].value_counts(ascending=False).head(5)"
   ]
  },
  {
   "cell_type": "code",
   "execution_count": null,
   "metadata": {},
   "outputs": [],
   "source": [
    "df['Lat'].value_counts(ascending=False).head(5)"
   ]
  },
  {
   "cell_type": "markdown",
   "metadata": {},
   "source": [
    "# How many bikes are there in total?"
   ]
  },
  {
   "cell_type": "code",
   "execution_count": null,
   "metadata": {},
   "outputs": [],
   "source": [
    "id_list = list(set(list(df['id'])))\n",
    "len(id_list)"
   ]
  },
  {
   "cell_type": "markdown",
   "metadata": {},
   "source": [
    "# Counting which bikes have the most location changes?"
   ]
  },
  {
   "cell_type": "code",
   "execution_count": null,
   "metadata": {
    "collapsed": true
   },
   "outputs": [],
   "source": [
    "id_list = list(set(list(df['id'])))\n",
    "list_count = []\n",
    "for elem in id_list:\n",
    "    count = df[df['id'] == elem]['Long'].value_counts().count()\n",
    "    mini_dict = {'Count':count,\n",
    "                 'ID': elem}\n",
    "    list_count.append(mini_dict)\n",
    "    df_change_count = pd.DataFrame(list_count)"
   ]
  },
  {
   "cell_type": "code",
   "execution_count": null,
   "metadata": {},
   "outputs": [],
   "source": [
    "print(\"Startzeit:\", df['Timestamp'].head(1)[0],\n",
    "     \"Endzeit:\",str(df['Timestamp'].tail(1))[:26][7:])"
   ]
  },
  {
   "cell_type": "code",
   "execution_count": null,
   "metadata": {},
   "outputs": [],
   "source": [
    "df_change_count.sort_values(by='Count', ascending=False).head(10)"
   ]
  },
  {
   "cell_type": "markdown",
   "metadata": {},
   "source": [
    "# Average amount of time bikes are used in the above defined time period?"
   ]
  },
  {
   "cell_type": "code",
   "execution_count": null,
   "metadata": {},
   "outputs": [],
   "source": [
    "df_change_count['Count'].mean()"
   ]
  },
  {
   "cell_type": "markdown",
   "metadata": {},
   "source": [
    "# How many bikes never moved in the past three days?"
   ]
  },
  {
   "cell_type": "code",
   "execution_count": null,
   "metadata": {},
   "outputs": [],
   "source": [
    "df_change_count[df_change_count['Count'] == 1].count()"
   ]
  },
  {
   "cell_type": "markdown",
   "metadata": {},
   "source": [
    "# Percentage of total? (Bikes that haven't moved in the above mentioned time frame)"
   ]
  },
  {
   "cell_type": "code",
   "execution_count": null,
   "metadata": {
    "collapsed": true
   },
   "outputs": [],
   "source": [
    "total = len(list(set(list(df['id']))))"
   ]
  },
  {
   "cell_type": "code",
   "execution_count": null,
   "metadata": {
    "collapsed": true
   },
   "outputs": [],
   "source": [
    "never_moved = df_change_count[df_change_count['Count'] == 1]['Count'].count()"
   ]
  },
  {
   "cell_type": "code",
   "execution_count": null,
   "metadata": {},
   "outputs": [],
   "source": [
    "round(never_moved / total * 100, 1)"
   ]
  },
  {
   "cell_type": "markdown",
   "metadata": {},
   "source": [
    "# Save list of bikes that have never moved, and created a del list"
   ]
  },
  {
   "cell_type": "code",
   "execution_count": null,
   "metadata": {
    "collapsed": true
   },
   "outputs": [],
   "source": [
    "Del_list = list(df_change_count[df_change_count['Count'] == 1]['ID'])"
   ]
  },
  {
   "cell_type": "markdown",
   "metadata": {},
   "source": [
    "# Creating DataFrame of the bikes that have never moved, with location data"
   ]
  },
  {
   "cell_type": "code",
   "execution_count": null,
   "metadata": {},
   "outputs": [],
   "source": [
    "Del_list[0:5]"
   ]
  },
  {
   "cell_type": "code",
   "execution_count": null,
   "metadata": {
    "collapsed": true
   },
   "outputs": [],
   "source": [
    "df_never_moved = df.head(0)"
   ]
  },
  {
   "cell_type": "code",
   "execution_count": null,
   "metadata": {
    "collapsed": true
   },
   "outputs": [],
   "source": [
    "for id_never_moved in Del_list:\n",
    "    df_new = df[df['id'] == id_never_moved]\n",
    "    frames = [df_never_moved, df_new]\n",
    "    df_never_moved = pd.concat(frames)"
   ]
  },
  {
   "cell_type": "code",
   "execution_count": null,
   "metadata": {
    "collapsed": true
   },
   "outputs": [],
   "source": [
    "df_never_moved = df_never_moved.drop_duplicates(subset='id')"
   ]
  },
  {
   "cell_type": "code",
   "execution_count": null,
   "metadata": {},
   "outputs": [],
   "source": [
    "df_never_moved.info() #remove Time"
   ]
  },
  {
   "cell_type": "code",
   "execution_count": null,
   "metadata": {
    "collapsed": true
   },
   "outputs": [],
   "source": [
    "df_never_moved.to_csv('never_moved.csv')"
   ]
  },
  {
   "cell_type": "code",
   "execution_count": null,
   "metadata": {},
   "outputs": [],
   "source": [
    "df_never_moved['Long'].value_counts().head(5)"
   ]
  },
  {
   "cell_type": "code",
   "execution_count": null,
   "metadata": {},
   "outputs": [],
   "source": [
    "df_never_moved['Lat'].value_counts().head(10)"
   ]
  },
  {
   "cell_type": "markdown",
   "metadata": {},
   "source": [
    "# Delete these bikes from the list"
   ]
  },
  {
   "cell_type": "code",
   "execution_count": null,
   "metadata": {
    "collapsed": true
   },
   "outputs": [],
   "source": [
    "for bike in Del_list:\n",
    "    id_list.remove(bike)"
   ]
  },
  {
   "cell_type": "code",
   "execution_count": null,
   "metadata": {},
   "outputs": [],
   "source": [
    "len(id_list)"
   ]
  },
  {
   "cell_type": "markdown",
   "metadata": {},
   "source": [
    "# Create list of bikes that have moved"
   ]
  },
  {
   "cell_type": "code",
   "execution_count": null,
   "metadata": {
    "collapsed": true
   },
   "outputs": [],
   "source": [
    "rel_list_count = []\n",
    "for elem in id_list:\n",
    "    count = df[df['id'] == elem]['Long'].value_counts().count()\n",
    "    mini_dict = {'Count':count,\n",
    "                 'ID': elem}\n",
    "    rel_list_count.append(mini_dict)"
   ]
  },
  {
   "cell_type": "code",
   "execution_count": null,
   "metadata": {
    "collapsed": true
   },
   "outputs": [],
   "source": [
    "df_moved = pd.DataFrame(rel_list_count)"
   ]
  },
  {
   "cell_type": "code",
   "execution_count": null,
   "metadata": {},
   "outputs": [],
   "source": [
    "df_moved.sort_values(by='Count', ascending=False).head()"
   ]
  },
  {
   "cell_type": "markdown",
   "metadata": {},
   "source": [
    "# The bike with the most movements"
   ]
  },
  {
   "cell_type": "code",
   "execution_count": null,
   "metadata": {
    "collapsed": true
   },
   "outputs": [],
   "source": [
    "df[df['id']==41000425].to_csv('BikeID41000425.csv')"
   ]
  },
  {
   "cell_type": "markdown",
   "metadata": {},
   "source": [
    "# What is the average distance per bike move?"
   ]
  },
  {
   "cell_type": "markdown",
   "metadata": {},
   "source": [
    "# First the top bike"
   ]
  },
  {
   "cell_type": "code",
   "execution_count": null,
   "metadata": {
    "collapsed": true
   },
   "outputs": [],
   "source": [
    "top_bike = df[df['id']==41000425]"
   ]
  },
  {
   "cell_type": "code",
   "execution_count": null,
   "metadata": {},
   "outputs": [],
   "source": [
    "long_list = list(top_bike['Long'])\n",
    "last_elem = long_list[-1]\n",
    "long_list.append(last_elem)\n",
    "long_list.pop(0)\n",
    "top_bike['newLong'] = long_list"
   ]
  },
  {
   "cell_type": "code",
   "execution_count": null,
   "metadata": {},
   "outputs": [],
   "source": [
    "lat_list = list(top_bike['Lat'])\n",
    "last_elem = lat_list[-1]\n",
    "lat_list.append(last_elem)\n",
    "lat_list.pop(0)\n",
    "top_bike['newLat'] = lat_list"
   ]
  },
  {
   "cell_type": "code",
   "execution_count": null,
   "metadata": {
    "collapsed": true
   },
   "outputs": [],
   "source": [
    "la1 = list(top_bike['Lat'])\n",
    "lo1 = list(top_bike['Long'])\n",
    "la2 = list(top_bike['newLat'])\n",
    "lo2 = list(top_bike['newLong'])"
   ]
  },
  {
   "cell_type": "code",
   "execution_count": null,
   "metadata": {
    "collapsed": true
   },
   "outputs": [],
   "source": [
    "distance_list = []\n",
    "\n",
    "for lat1, lon1, lat2, lon2 in zip(la1, lo1, la2, lo2):\n",
    "\n",
    "    lat1 = radians(float(lat1))\n",
    "    lon1 = radians(float(lon1))\n",
    "    lat2 = radians(float(lat2))\n",
    "    lon2 = radians(float(lon2))\n",
    "\n",
    "    dlon = lon2 - lon1\n",
    "    dlat = lat2 - lat1\n",
    "\n",
    "    a = sin(dlat / 2)**2 + cos(lat1) * cos(lat2) * sin(dlon / 2)**2\n",
    "    c = 2 * atan2(sqrt(a), sqrt(1 - a))\n",
    "\n",
    "    distance = R * c\n",
    "    \n",
    "    distance_list.append(distance)"
   ]
  },
  {
   "cell_type": "code",
   "execution_count": null,
   "metadata": {},
   "outputs": [],
   "source": [
    "top_bike['Distance'] = distance_list"
   ]
  },
  {
   "cell_type": "code",
   "execution_count": null,
   "metadata": {
    "collapsed": true
   },
   "outputs": [],
   "source": [
    "final_topbike = top_bike[top_bike['Distance'] != 0.000000]"
   ]
  },
  {
   "cell_type": "code",
   "execution_count": null,
   "metadata": {},
   "outputs": [],
   "source": [
    "final_topbike.head(0)"
   ]
  },
  {
   "cell_type": "markdown",
   "metadata": {},
   "source": [
    "# Now with all the bikes"
   ]
  },
  {
   "cell_type": "code",
   "execution_count": null,
   "metadata": {
    "collapsed": true
   },
   "outputs": [],
   "source": [
    "final_topbikes = final_topbike.head(0)"
   ]
  },
  {
   "cell_type": "code",
   "execution_count": null,
   "metadata": {
    "collapsed": true
   },
   "outputs": [],
   "source": [
    "moved_bikes = list(df_moved['ID'])"
   ]
  },
  {
   "cell_type": "code",
   "execution_count": null,
   "metadata": {},
   "outputs": [],
   "source": [
    "for bike in moved_bikes:\n",
    "    \n",
    "    top_bike = df[df['id']== bike]\n",
    "    \n",
    "    long_list = list(top_bike['Long'])\n",
    "    last_elem = long_list[-1]\n",
    "    long_list.append(last_elem)\n",
    "    long_list.pop(0)\n",
    "    top_bike['newLong'] = long_list\n",
    "    \n",
    "    lat_list = list(top_bike['Lat'])\n",
    "    last_elem = lat_list[-1]\n",
    "    lat_list.append(last_elem)\n",
    "    lat_list.pop(0)\n",
    "    top_bike['newLat'] = lat_list\n",
    "    \n",
    "    la1 = list(top_bike['Lat'])\n",
    "    lo1 = list(top_bike['Long'])\n",
    "    la2 = list(top_bike['newLat'])\n",
    "    lo2 = list(top_bike['newLong'])\n",
    "    \n",
    "    distance_list = []\n",
    "\n",
    "    for lat1, lon1, lat2, lon2 in zip(la1, lo1, la2, lo2):\n",
    "        lat1 = radians(float(lat1))\n",
    "        lon1 = radians(float(lon1))\n",
    "        lat2 = radians(float(lat2))\n",
    "        lon2 = radians(float(lon2))\n",
    "\n",
    "        dlon = lon2 - lon1\n",
    "        dlat = lat2 - lat1\n",
    "\n",
    "        a = sin(dlat / 2)**2 + cos(lat1) * cos(lat2) * sin(dlon / 2)**2\n",
    "        c = 2 * atan2(sqrt(a), sqrt(1 - a))\n",
    "\n",
    "        distance = R * c\n",
    "        distance_list.append(distance)\n",
    "        \n",
    "    top_bike['Distance'] = distance_list\n",
    "    final_topbike = top_bike[top_bike['Distance'] != 0.000000]\n",
    "    \n",
    "    frames = [final_topbikes, final_topbike]\n",
    "    final_topbikes = pd.concat(frames)"
   ]
  },
  {
   "cell_type": "code",
   "execution_count": null,
   "metadata": {
    "collapsed": true
   },
   "outputs": [],
   "source": [
    "final_topbikes = final_topbikes.drop_duplicates()"
   ]
  },
  {
   "cell_type": "markdown",
   "metadata": {},
   "source": [
    "# Mittelere Strecke"
   ]
  },
  {
   "cell_type": "code",
   "execution_count": null,
   "metadata": {},
   "outputs": [],
   "source": [
    "final_topbikes['Distance'].mean()"
   ]
  },
  {
   "cell_type": "markdown",
   "metadata": {},
   "source": [
    "# Anzahl Bewegungen"
   ]
  },
  {
   "cell_type": "code",
   "execution_count": null,
   "metadata": {},
   "outputs": [],
   "source": [
    "final_topbikes['Distance'].count()"
   ]
  },
  {
   "cell_type": "code",
   "execution_count": null,
   "metadata": {},
   "outputs": [],
   "source": [
    "final_topbikes['Distance'].count() / len(list(set(list(final_topbikes['id'])))) / 14"
   ]
  },
  {
   "cell_type": "code",
   "execution_count": null,
   "metadata": {},
   "outputs": [],
   "source": [
    "final_topbikes['Distance'].count() * 1.5"
   ]
  },
  {
   "cell_type": "markdown",
   "metadata": {},
   "source": [
    "# Total Kilometer (Luftlinie)"
   ]
  },
  {
   "cell_type": "code",
   "execution_count": null,
   "metadata": {},
   "outputs": [],
   "source": [
    "round(final_topbikes['Distance'].sum())"
   ]
  },
  {
   "cell_type": "markdown",
   "metadata": {},
   "source": [
    "# Zu welcher Tageszeit werden die Velos am meisten benutzt?"
   ]
  },
  {
   "cell_type": "code",
   "execution_count": null,
   "metadata": {},
   "outputs": [],
   "source": [
    "def pmam(x):\n",
    "    x = str(x)\n",
    "    #x = (':'.join(a+b for a,b in zip(x[::2], x[1::2])))\n",
    "    if x == 'NaN':\n",
    "        pass\n",
    "    try:\n",
    "        x = str(x[:2] + ':' + x[2:])\n",
    "        date = dateutil.parser.parse(x)\n",
    "        return str(date.strftime('%d/%m/%Y %H:%M %p'))\n",
    "    except:\n",
    "        return 'NaN'\n",
    "\n",
    "print(pmam('2017-09-09 07:00:03'))"
   ]
  },
  {
   "cell_type": "markdown",
   "metadata": {},
   "source": [
    "### Adding on two hour, because time on the server is wrong"
   ]
  },
  {
   "cell_type": "code",
   "execution_count": null,
   "metadata": {
    "collapsed": true
   },
   "outputs": [],
   "source": [
    "def addtwo(elem):\n",
    "    mytime = datetime.strptime(elem, \"%Y-%m-%d %H:%M:%S\")\n",
    "    mytime += timedelta(hours=2)\n",
    "    return mytime.strftime(\"%Y.%m.%d %H:%M:%S\")"
   ]
  },
  {
   "cell_type": "code",
   "execution_count": null,
   "metadata": {
    "collapsed": true
   },
   "outputs": [],
   "source": [
    "final_topbikes['Timestamp +2'] = final_topbikes['Timestamp'].apply(addtwo)"
   ]
  },
  {
   "cell_type": "code",
   "execution_count": null,
   "metadata": {
    "collapsed": true
   },
   "outputs": [],
   "source": [
    "final_topbikes['Timestamp index'] = final_topbikes['Timestamp +2'].apply(pmam)\n",
    "final_topbikes['Timestamp index'] = final_topbikes['Timestamp index'].apply(lambda x: \n",
    "                                    dt.datetime.strptime(x,'%d/%m/%Y %H:%M %p'))\n",
    "final_topbikes.index = final_topbikes['Timestamp index']"
   ]
  },
  {
   "cell_type": "markdown",
   "metadata": {},
   "source": [
    "# When are the most bikes rented?"
   ]
  },
  {
   "cell_type": "code",
   "execution_count": null,
   "metadata": {},
   "outputs": [],
   "source": [
    "final_topbikes.groupby(by=final_topbikes.index.hour)['id'].count().plot(kind='bar', figsize=(12,6))"
   ]
  },
  {
   "cell_type": "markdown",
   "metadata": {},
   "source": [
    "# Median Distance according to time of day"
   ]
  },
  {
   "cell_type": "code",
   "execution_count": null,
   "metadata": {},
   "outputs": [],
   "source": [
    "final_topbikes.groupby(by=final_topbikes.index.hour)['Distance'].median().plot(kind='bar', figsize=(12,6))"
   ]
  },
  {
   "cell_type": "markdown",
   "metadata": {},
   "source": [
    "# What about day of week?"
   ]
  },
  {
   "cell_type": "code",
   "execution_count": null,
   "metadata": {},
   "outputs": [],
   "source": [
    "final_topbikes.groupby(by=final_topbikes.index.weekday)['id'].count().plot(kind='bar', figsize=(6,3))"
   ]
  },
  {
   "cell_type": "code",
   "execution_count": null,
   "metadata": {},
   "outputs": [],
   "source": [
    "final_topbikes.groupby(by=final_topbikes.index.weekday)['Distance'].count().plot(kind='bar', figsize=(12,6))"
   ]
  },
  {
   "cell_type": "code",
   "execution_count": null,
   "metadata": {},
   "outputs": [],
   "source": [
    "final_topbikes.groupby(by=final_topbikes.index.weekday)['Distance'].median().plot(kind='bar', figsize=(12,6))"
   ]
  },
  {
   "cell_type": "code",
   "execution_count": null,
   "metadata": {},
   "outputs": [],
   "source": [
    "len(list(set(list(final_topbikes['id']))))"
   ]
  },
  {
   "cell_type": "markdown",
   "metadata": {},
   "source": [
    "# Die Längste Strecken"
   ]
  },
  {
   "cell_type": "code",
   "execution_count": null,
   "metadata": {},
   "outputs": [],
   "source": [
    "final_topbikes.sort_values(by='Distance', ascending=False)"
   ]
  },
  {
   "cell_type": "markdown",
   "metadata": {
    "collapsed": true
   },
   "source": [
    "# Saving Top Bikes"
   ]
  },
  {
   "cell_type": "code",
   "execution_count": null,
   "metadata": {
    "collapsed": true
   },
   "outputs": [],
   "source": [
    "final_topbikes.to_csv('final_top_bikes.csv')"
   ]
  },
  {
   "cell_type": "markdown",
   "metadata": {
    "collapsed": true
   },
   "source": [
    "# Looking for Info for Carto"
   ]
  },
  {
   "cell_type": "code",
   "execution_count": null,
   "metadata": {},
   "outputs": [],
   "source": [
    "df.info()"
   ]
  },
  {
   "cell_type": "code",
   "execution_count": null,
   "metadata": {
    "collapsed": true
   },
   "outputs": [],
   "source": [
    "#Getting right time\n",
    "del_id = list(df_never_moved['id'])\n",
    "df['Timestamp +2'] = df['Timestamp'].apply(addtwo)"
   ]
  },
  {
   "cell_type": "code",
   "execution_count": null,
   "metadata": {
    "collapsed": true
   },
   "outputs": [],
   "source": [
    "#Developing list for the dates\n",
    "times = df['Timestamp +2'].value_counts().reset_index()\n",
    "times['date'] = times['index'].apply(lambda x: \n",
    "                                    dt.datetime.strptime(x,'%Y.%m.%d %H:%M:%S'))\n",
    "date_list = list(times.sort_values(by='date')['index'])"
   ]
  },
  {
   "cell_type": "code",
   "execution_count": null,
   "metadata": {
    "collapsed": true
   },
   "outputs": [],
   "source": [
    "final_date_list = []\n",
    "\n",
    "for elem in date_list:\n",
    "    if '07:00' in elem:\n",
    "        final_date_list.append(elem)\n",
    "    elif '12:00' in elem:\n",
    "        final_date_list.append(elem)\n",
    "    elif '15:00' in elem:\n",
    "        final_date_list.append(elem)\n",
    "    elif '00:00' in elem:\n",
    "        final_date_list.append(elem)\n",
    "    else:\n",
    "        pass"
   ]
  },
  {
   "cell_type": "code",
   "execution_count": null,
   "metadata": {
    "collapsed": true
   },
   "outputs": [],
   "source": [
    "#Pulling out relevant files to make final df for carto\n",
    "df_carto = df.head(0)\n",
    "for elem in final_date_list:\n",
    "    df_new = df[df['Timestamp +2'] == elem]\n",
    "    df_carto = pd.concat([df_carto, df_new])"
   ]
  },
  {
   "cell_type": "code",
   "execution_count": null,
   "metadata": {},
   "outputs": [],
   "source": [
    "df_carto.head()"
   ]
  },
  {
   "cell_type": "code",
   "execution_count": null,
   "metadata": {
    "collapsed": true
   },
   "outputs": [],
   "source": [
    "del df['Timestamp']"
   ]
  },
  {
   "cell_type": "code",
   "execution_count": null,
   "metadata": {
    "collapsed": true
   },
   "outputs": [],
   "source": [
    "df_carto.to_csv('obike_carto.csv')"
   ]
  },
  {
   "cell_type": "code",
   "execution_count": null,
   "metadata": {},
   "outputs": [],
   "source": [
    "len(final_date_list)"
   ]
  },
  {
   "cell_type": "code",
   "execution_count": null,
   "metadata": {},
   "outputs": [],
   "source": [
    "36390 / 55"
   ]
  },
  {
   "cell_type": "code",
   "execution_count": null,
   "metadata": {
    "collapsed": true
   },
   "outputs": [],
   "source": []
  }
 ],
 "metadata": {
  "kernelspec": {
   "display_name": "Python 3",
   "language": "python",
   "name": "python3"
  },
  "language_info": {
   "codemirror_mode": {
    "name": "ipython",
    "version": 3
   },
   "file_extension": ".py",
   "mimetype": "text/x-python",
   "name": "python",
   "nbconvert_exporter": "python",
   "pygments_lexer": "ipython3",
   "version": "3.5.1"
  }
 },
 "nbformat": 4,
 "nbformat_minor": 2
}
